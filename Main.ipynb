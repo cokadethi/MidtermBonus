{
 "cells": [
  {
   "cell_type": "markdown",
   "source": [
    "Please use the attached data file to construct a K-nearest neighbor (KNN) classifier with various different numbers (remember k has to be odd), starting from k = 1 to some numbers (preferably a large range).\n",
    "\n",
    "**Do the following:**\n",
    "\n",
    "1. Use the 5-fold Cross-Validation (CV) method to find out the Expected Prediction Error (EPE) using KNN for different k, please also compute the Residual Sum of Squares (RSS).\n",
    "2. Put these EPE and RSS errors vs. k (it has to be at least more than 10 different values of k) on a plot.\n",
    "3. According to your plot (which is a bias-variance trade-off plot for model complexity), answer the following questions:\n",
    "   1. How does the value of k control the model complexity?\n",
    "   2. What's the optimal k?\n",
    "\n",
    "*The code will have to be in a Jupyter notebook file when you submit.*"
   ],
   "metadata": {
    "collapsed": false
   },
   "id": "7c8234a72d6dc2fa"
  },
  {
   "cell_type": "code",
   "outputs": [
    {
     "ename": "ModuleNotFoundError",
     "evalue": "No module named 'sklearn'",
     "output_type": "error",
     "traceback": [
      "\u001B[1;31m---------------------------------------------------------------------------\u001B[0m",
      "\u001B[1;31mModuleNotFoundError\u001B[0m                       Traceback (most recent call last)",
      "Cell \u001B[1;32mIn[2], line 2\u001B[0m\n\u001B[0;32m      1\u001B[0m \u001B[38;5;28;01mimport\u001B[39;00m \u001B[38;5;21;01mnumpy\u001B[39;00m \u001B[38;5;28;01mas\u001B[39;00m \u001B[38;5;21;01mnp\u001B[39;00m\n\u001B[1;32m----> 2\u001B[0m \u001B[38;5;28;01mfrom\u001B[39;00m \u001B[38;5;21;01msklearn\u001B[39;00m\u001B[38;5;21;01m.\u001B[39;00m\u001B[38;5;21;01mlinear_model\u001B[39;00m \u001B[38;5;28;01mimport\u001B[39;00m LinearRegression\n\u001B[0;32m      3\u001B[0m \u001B[38;5;28;01mfrom\u001B[39;00m \u001B[38;5;21;01mscipy\u001B[39;00m\u001B[38;5;21;01m.\u001B[39;00m\u001B[38;5;21;01mstats\u001B[39;00m \u001B[38;5;28;01mimport\u001B[39;00m t\n\u001B[0;32m      4\u001B[0m \u001B[38;5;28;01mimport\u001B[39;00m \u001B[38;5;21;01mpandas\u001B[39;00m \u001B[38;5;28;01mas\u001B[39;00m \u001B[38;5;21;01mpd\u001B[39;00m\n",
      "\u001B[1;31mModuleNotFoundError\u001B[0m: No module named 'sklearn'"
     ]
    }
   ],
   "source": [
    "import numpy as np\n",
    "from sklearn.linear_model import LinearRegression\n",
    "from scipy.stats import t\n",
    "import pandas as pd\n",
    "import statsmodels.api as sm\n",
    "import itertools"
   ],
   "metadata": {
    "collapsed": false,
    "ExecuteTime": {
     "end_time": "2024-03-22T17:34:47.564012700Z",
     "start_time": "2024-03-22T17:34:47.127862Z"
    }
   },
   "id": "e63dee69ee8d3e58",
   "execution_count": 2
  }
 ],
 "metadata": {
  "kernelspec": {
   "display_name": "Python 3",
   "language": "python",
   "name": "python3"
  },
  "language_info": {
   "codemirror_mode": {
    "name": "ipython",
    "version": 2
   },
   "file_extension": ".py",
   "mimetype": "text/x-python",
   "name": "python",
   "nbconvert_exporter": "python",
   "pygments_lexer": "ipython2",
   "version": "2.7.6"
  }
 },
 "nbformat": 4,
 "nbformat_minor": 5
}
