{
 "cells": [
  {
   "cell_type": "markdown",
   "source": [
    "Please use the attached data file to construct a K-nearest neighbor (KNN) classifier with various different numbers (remember k has to be odd), starting from k = 1 to some numbers (preferably a large range).\n",
    "\n",
    "**Do the following:**\n",
    "\n",
    "1. Use the 5-fold Cross-Validation (CV) method to find out the Expected Prediction Error (EPE) using KNN for different k, please also compute the Residual Sum of Squares (RSS).\n",
    "2. Put these EPE and RSS errors vs. k (it has to be at least more than 10 different values of k) on a plot.\n",
    "3. According to your plot (which is a bias-variance trade-off plot for model complexity), answer the following questions:\n",
    "   1. How does the value of k control the model complexity?\n",
    "   2. What's the optimal k?\n",
    "\n",
    "*The code will have to be in a Jupyter notebook file when you submit.*"
   ],
   "metadata": {
    "collapsed": false
   },
   "id": "7c8234a72d6dc2fa"
  },
  {
   "cell_type": "code",
   "outputs": [],
   "source": [
    "import numpy as np\n",
    "from sklearn.linear_model import LinearRegression\n",
    "from scipy.stats import t\n",
    "import pandas as pd\n",
    "import statsmodels.api as sm\n",
    "import itertools\n",
    "%matplotlib inline"
   ],
   "metadata": {
    "collapsed": false,
    "is_executing": true
   },
   "id": "e63dee69ee8d3e58",
   "execution_count": null
  },
  {
   "cell_type": "code",
   "outputs": [],
   "source": [
    "# Loading data from 'training_data.txt'\n",
    "filename = 'prostate.txt'\n",
    "training_data = pd.read_csv(filename, header=None, delimiter=',')\n",
    "# Rename columns\n",
    "training_data.columns = ['Column 1', 'Column 2', 'Target']\n",
    "\n",
    "# Display the DataFrame\n",
    "training_data"
   ],
   "metadata": {
    "collapsed": false
   },
   "id": "c1ca61609d454d76"
  }
 ],
 "metadata": {
  "kernelspec": {
   "display_name": "Python 3",
   "language": "python",
   "name": "python3"
  },
  "language_info": {
   "codemirror_mode": {
    "name": "ipython",
    "version": 2
   },
   "file_extension": ".py",
   "mimetype": "text/x-python",
   "name": "python",
   "nbconvert_exporter": "python",
   "pygments_lexer": "ipython2",
   "version": "2.7.6"
  }
 },
 "nbformat": 4,
 "nbformat_minor": 5
}
