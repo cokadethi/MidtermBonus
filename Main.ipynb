{
 "cells": [
  {
   "cell_type": "markdown",
   "source": [
    "Please use the attached data file to construct a K-nearest neighbor (KNN) classifier with various different numbers (remember k has to be odd), starting from k = 1 to some numbers (preferably a large range).\n",
    "\n",
    "**Do the following:**\n",
    "\n",
    "1. Use the 5-fold Cross-Validation (CV) method to find out the Expected Prediction Error (EPE) using KNN for different k, please also compute the Residual Sum of Squares (RSS).\n",
    "2. Put these EPE and RSS errors vs. k (it has to be at least more than 10 different values of k) on a plot.\n",
    "3. According to your plot (which is a bias-variance trade-off plot for model complexity), answer the following questions:\n",
    "   1. How does the value of k control the model complexity?\n",
    "   2. What's the optimal k?\n",
    "\n",
    "*The code will have to be in a Jupyter notebook file when you submit.*"
   ],
   "metadata": {
    "collapsed": false
   },
   "id": "7c8234a72d6dc2fa"
  },
  {
   "cell_type": "code",
   "outputs": [],
   "source": [
    "import pandas as pd\n",
    "%matplotlib inline"
   ],
   "metadata": {
    "collapsed": false,
    "ExecuteTime": {
     "end_time": "2024-03-23T21:36:50.447741Z",
     "start_time": "2024-03-23T21:36:50.418331300Z"
    }
   },
   "id": "e63dee69ee8d3e58",
   "execution_count": 10
  },
  {
   "cell_type": "code",
   "outputs": [
    {
     "data": {
      "text/plain": "      lcavol   lweight  age      lbph  svi       lcp  gleason  pgg45  \\\n0  -0.579818  2.769459   50 -1.386294    0 -1.386294        6      0   \n1  -0.994252  3.319626   58 -1.386294    0 -1.386294        6      0   \n2  -0.510826  2.691243   74 -1.386294    0 -1.386294        7     20   \n3  -1.203973  3.282789   58 -1.386294    0 -1.386294        6      0   \n4   0.751416  3.432373   62 -1.386294    0 -1.386294        6      0   \n..       ...       ...  ...       ...  ...       ...      ...    ...   \n92  2.830268  3.876396   68 -1.386294    1  1.321756        7     60   \n93  3.821004  3.896909   44 -1.386294    1  2.169054        7     40   \n94  2.907447  3.396185   52 -1.386294    1  2.463853        7     10   \n95  2.882564  3.773910   68  1.558145    1  1.558145        7     80   \n96  3.471966  3.974998   68  0.438255    1  2.904165        7     20   \n\n        lpsa  train  \n0  -0.430783   True  \n1  -0.162519   True  \n2  -0.162519   True  \n3  -0.162519   True  \n4   0.371564   True  \n..       ...    ...  \n92  4.385147   True  \n93  4.684443   True  \n94  5.143124  False  \n95  5.477509   True  \n96  5.582932  False  \n\n[97 rows x 10 columns]",
      "text/html": "<div>\n<style scoped>\n    .dataframe tbody tr th:only-of-type {\n        vertical-align: middle;\n    }\n\n    .dataframe tbody tr th {\n        vertical-align: top;\n    }\n\n    .dataframe thead th {\n        text-align: right;\n    }\n</style>\n<table border=\"1\" class=\"dataframe\">\n  <thead>\n    <tr style=\"text-align: right;\">\n      <th></th>\n      <th>lcavol</th>\n      <th>lweight</th>\n      <th>age</th>\n      <th>lbph</th>\n      <th>svi</th>\n      <th>lcp</th>\n      <th>gleason</th>\n      <th>pgg45</th>\n      <th>lpsa</th>\n      <th>train</th>\n    </tr>\n  </thead>\n  <tbody>\n    <tr>\n      <th>0</th>\n      <td>-0.579818</td>\n      <td>2.769459</td>\n      <td>50</td>\n      <td>-1.386294</td>\n      <td>0</td>\n      <td>-1.386294</td>\n      <td>6</td>\n      <td>0</td>\n      <td>-0.430783</td>\n      <td>True</td>\n    </tr>\n    <tr>\n      <th>1</th>\n      <td>-0.994252</td>\n      <td>3.319626</td>\n      <td>58</td>\n      <td>-1.386294</td>\n      <td>0</td>\n      <td>-1.386294</td>\n      <td>6</td>\n      <td>0</td>\n      <td>-0.162519</td>\n      <td>True</td>\n    </tr>\n    <tr>\n      <th>2</th>\n      <td>-0.510826</td>\n      <td>2.691243</td>\n      <td>74</td>\n      <td>-1.386294</td>\n      <td>0</td>\n      <td>-1.386294</td>\n      <td>7</td>\n      <td>20</td>\n      <td>-0.162519</td>\n      <td>True</td>\n    </tr>\n    <tr>\n      <th>3</th>\n      <td>-1.203973</td>\n      <td>3.282789</td>\n      <td>58</td>\n      <td>-1.386294</td>\n      <td>0</td>\n      <td>-1.386294</td>\n      <td>6</td>\n      <td>0</td>\n      <td>-0.162519</td>\n      <td>True</td>\n    </tr>\n    <tr>\n      <th>4</th>\n      <td>0.751416</td>\n      <td>3.432373</td>\n      <td>62</td>\n      <td>-1.386294</td>\n      <td>0</td>\n      <td>-1.386294</td>\n      <td>6</td>\n      <td>0</td>\n      <td>0.371564</td>\n      <td>True</td>\n    </tr>\n    <tr>\n      <th>...</th>\n      <td>...</td>\n      <td>...</td>\n      <td>...</td>\n      <td>...</td>\n      <td>...</td>\n      <td>...</td>\n      <td>...</td>\n      <td>...</td>\n      <td>...</td>\n      <td>...</td>\n    </tr>\n    <tr>\n      <th>92</th>\n      <td>2.830268</td>\n      <td>3.876396</td>\n      <td>68</td>\n      <td>-1.386294</td>\n      <td>1</td>\n      <td>1.321756</td>\n      <td>7</td>\n      <td>60</td>\n      <td>4.385147</td>\n      <td>True</td>\n    </tr>\n    <tr>\n      <th>93</th>\n      <td>3.821004</td>\n      <td>3.896909</td>\n      <td>44</td>\n      <td>-1.386294</td>\n      <td>1</td>\n      <td>2.169054</td>\n      <td>7</td>\n      <td>40</td>\n      <td>4.684443</td>\n      <td>True</td>\n    </tr>\n    <tr>\n      <th>94</th>\n      <td>2.907447</td>\n      <td>3.396185</td>\n      <td>52</td>\n      <td>-1.386294</td>\n      <td>1</td>\n      <td>2.463853</td>\n      <td>7</td>\n      <td>10</td>\n      <td>5.143124</td>\n      <td>False</td>\n    </tr>\n    <tr>\n      <th>95</th>\n      <td>2.882564</td>\n      <td>3.773910</td>\n      <td>68</td>\n      <td>1.558145</td>\n      <td>1</td>\n      <td>1.558145</td>\n      <td>7</td>\n      <td>80</td>\n      <td>5.477509</td>\n      <td>True</td>\n    </tr>\n    <tr>\n      <th>96</th>\n      <td>3.471966</td>\n      <td>3.974998</td>\n      <td>68</td>\n      <td>0.438255</td>\n      <td>1</td>\n      <td>2.904165</td>\n      <td>7</td>\n      <td>20</td>\n      <td>5.582932</td>\n      <td>False</td>\n    </tr>\n  </tbody>\n</table>\n<p>97 rows × 10 columns</p>\n</div>"
     },
     "execution_count": 11,
     "metadata": {},
     "output_type": "execute_result"
    }
   ],
   "source": [
    "filename = 'prostate.txt'\n",
    "training_data = pd.read_csv(filename, delimiter=',')\n",
    "column_names = ['lcavol', 'lweight', 'age', 'lbph', 'svi', 'lcp', 'gleason', 'pgg45', 'lpsa', 'train']\n",
    "training_data.columns = column_names\n",
    "training_data"
   ],
   "metadata": {
    "collapsed": false,
    "ExecuteTime": {
     "end_time": "2024-03-23T21:36:50.505295Z",
     "start_time": "2024-03-23T21:36:50.439334800Z"
    }
   },
   "id": "c1ca61609d454d76",
   "execution_count": 11
  },
  {
   "cell_type": "markdown",
   "source": [
    "1. **lcavol**: Logarithm of cancer volume\n",
    "\n",
    "2. **lweight**: Logarithm of prostate weight\n",
    "\n",
    "3. **age**: Age of the patient\n",
    "\n",
    "4. **lbph**: Logarithm of benign prostatic hyperplasia amount\n",
    "\n",
    "5. **svi**: Seminal vesicle invasion\n",
    "\n",
    "6. **lcp**: Logarithm of capsular penetration\n",
    "\n",
    "7. **gleason**: Gleason score \n",
    "\n",
    "8. **pgg45**: Percentage of Gleason scores 4 or 5\n",
    "\n",
    "9. **lpsa**: Logarithm of prostate-specific antigen\n",
    "\n",
    "10. **train**: Indicates whether the data point is part of the training set\n"
   ],
   "metadata": {
    "collapsed": false
   },
   "id": "d0d07fd467fdd806"
  }
 ],
 "metadata": {
  "kernelspec": {
   "display_name": "Python 3",
   "language": "python",
   "name": "python3"
  },
  "language_info": {
   "codemirror_mode": {
    "name": "ipython",
    "version": 2
   },
   "file_extension": ".py",
   "mimetype": "text/x-python",
   "name": "python",
   "nbconvert_exporter": "python",
   "pygments_lexer": "ipython2",
   "version": "2.7.6"
  }
 },
 "nbformat": 4,
 "nbformat_minor": 5
}
